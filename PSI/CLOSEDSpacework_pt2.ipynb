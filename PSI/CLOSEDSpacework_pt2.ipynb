{
 "cells": [
  {
   "cell_type": "raw",
   "id": "dde88b96-f2f4-4bd3-8701-cbaffe72353f",
   "metadata": {},
   "source": [
    "Columns are as follows:\n",
    "\n",
    "hydraulic head before evaporation: m, relative to geoid\n",
    "hydraulic head after evaporation: m, relative to geoid\n",
    "elevation: m, relative to geoid\n",
    "precipitation: m/s, lake surface only\n",
    "aquifer recharge: m/s, bare surface only, function of P and E\n",
    "evaporation: m/s, lake surface only\n",
    "runoff: m/s, only output as discharge to lakes, function of P and E\n",
    "subsurface flow: m/s"
   ]
  },
  {
   "cell_type": "code",
   "execution_count": 1,
   "id": "9d78266e-b7c6-4f5d-9fe1-2d6ac333673e",
   "metadata": {},
   "outputs": [],
   "source": [
    "import os\n",
    "import numpy as np\n",
    "import xarray as xr\n",
    "import proplot as plot \n",
    "import matplotlib.pyplot as plt\n",
    "import pandas as pd"
   ]
  },
  {
   "cell_type": "code",
   "execution_count": 4,
   "id": "69f83fb2-eef9-4caf-8879-6a12b6f6dddb",
   "metadata": {},
   "outputs": [],
   "source": [
    "\n",
    "i = 1\n",
    "for n in range(5):\n",
    "    globals()[\"w\" + str(i)] = 'dogs' ###Do what you want here\n",
    "    i += 1"
   ]
  },
  {
   "cell_type": "code",
   "execution_count": 5,
   "id": "bd76f35f-c07d-4dae-bde4-d3a6fd959d8a",
   "metadata": {},
   "outputs": [
    {
     "data": {
      "text/plain": [
       "'dogs'"
      ]
     },
     "execution_count": 5,
     "metadata": {},
     "output_type": "execute_result"
    }
   ],
   "source": [
    "w2"
   ]
  },
  {
   "cell_type": "code",
   "execution_count": 6,
   "id": "d2be950f-dfc7-4586-b6a2-dd88c39a1de1",
   "metadata": {},
   "outputs": [],
   "source": [
    "#WORKS KIND OF BUT I NEED TO BE ABLE TO ORDER THE DATA\n",
    "\n",
    "i = 1\n",
    "directory = r'/Users/qjf838/Documents/SpaceData'\n",
    "for filename in os.listdir(directory):\n",
    "    if filename.endswith(\".dat\"): # or filename.endswith(\".png\"):\n",
    "        globals()[\"data\" + str(i)]= filename\n",
    "        i += 1\n",
    "    else:\n",
    "        continue"
   ]
  },
  {
   "cell_type": "code",
   "execution_count": 49,
   "id": "eb745708-0e98-4c3c-9cfd-9754a874ecea",
   "metadata": {},
   "outputs": [
    {
     "data": {
      "text/plain": [
       "'NP_EKM0_TBS0_KP_72.dat'"
      ]
     },
     "execution_count": 49,
     "metadata": {},
     "output_type": "execute_result"
    }
   ],
   "source": [
    "data65"
   ]
  },
  {
   "cell_type": "code",
   "execution_count": 7,
   "id": "6a336012-5d5a-42b1-a9a3-c3a0c9c054fb",
   "metadata": {
    "tags": []
   },
   "outputs": [],
   "source": [
    "file_list = os.listdir(\"/Users/qjf838/Documents/SpaceData\")\n",
    "\n",
    "#grab last 4 characters of the file name:\n",
    "def last_7chars(x):\n",
    "    return(x[-7:])\n",
    "\n",
    "#sorted(file_list, key = last_7chars)   "
   ]
  },
  {
   "cell_type": "code",
   "execution_count": 8,
   "id": "f87a5bb6-85af-4a00-a85b-30e6c28c744e",
   "metadata": {},
   "outputs": [],
   "source": [
    "#This code loads in data. It does this by getting it from the directory, then looking at their last 7\n",
    "#characters, and sorting them. Once it sorts them, it looks for .dat files in the code, and creates a variable\n",
    "#for each \n",
    "#link to code examples here https://newbedev.com/c-python-for-loop-multiple-variables-code-example\n",
    "#https://newbedev.com/how-to-iterate-over-files-in-a-given-directory\n",
    "#https://stackoverflow.com/questions/37796598/how-to-sort-file-names-in-a-particular-order-using-python\n",
    "\n",
    "file_list = os.listdir(\"/Users/qjf838/Documents/SpaceData\")\n",
    "\n",
    "#grab last 4 characters of the file name:\n",
    "def last_7chars(x):\n",
    "    return(x[-7:])\n",
    "\n",
    "sorted(file_list, key = last_7chars)   \n",
    "\n",
    "i = 1\n",
    "directory = r'/Users/qjf838/Documents/SpaceData'\n",
    "for filename in sorted(file_list, key = last_7chars):\n",
    "    if filename.endswith(\".dat\"): # or filename.endswith(\".png\"):\n",
    "        globals()[\"data\" + str(i)]= pd.read_csv( filename, sep=' ', header=None, skipinitialspace=True, engine='python')\n",
    "        i += 1\n",
    "    else:\n",
    "        continue"
   ]
  },
  {
   "cell_type": "code",
   "execution_count": 10,
   "id": "e53339fb-4ac6-4eaf-b927-1904617e4d57",
   "metadata": {},
   "outputs": [
    {
     "data": {
      "text/html": [
       "<div>\n",
       "<style scoped>\n",
       "    .dataframe tbody tr th:only-of-type {\n",
       "        vertical-align: middle;\n",
       "    }\n",
       "\n",
       "    .dataframe tbody tr th {\n",
       "        vertical-align: top;\n",
       "    }\n",
       "\n",
       "    .dataframe thead th {\n",
       "        text-align: right;\n",
       "    }\n",
       "</style>\n",
       "<table border=\"1\" class=\"dataframe\">\n",
       "  <thead>\n",
       "    <tr style=\"text-align: right;\">\n",
       "      <th></th>\n",
       "      <th>0</th>\n",
       "      <th>1</th>\n",
       "      <th>2</th>\n",
       "      <th>3</th>\n",
       "      <th>4</th>\n",
       "      <th>5</th>\n",
       "      <th>6</th>\n",
       "      <th>7</th>\n",
       "    </tr>\n",
       "  </thead>\n",
       "  <tbody>\n",
       "    <tr>\n",
       "      <th>0</th>\n",
       "      <td>-937.944</td>\n",
       "      <td>-937.944</td>\n",
       "      <td>-626.765</td>\n",
       "      <td>0.0</td>\n",
       "      <td>0.0</td>\n",
       "      <td>0.0</td>\n",
       "      <td>0.0</td>\n",
       "      <td>0.0</td>\n",
       "    </tr>\n",
       "    <tr>\n",
       "      <th>1</th>\n",
       "      <td>-937.944</td>\n",
       "      <td>-937.944</td>\n",
       "      <td>-419.347</td>\n",
       "      <td>0.0</td>\n",
       "      <td>0.0</td>\n",
       "      <td>0.0</td>\n",
       "      <td>0.0</td>\n",
       "      <td>0.0</td>\n",
       "    </tr>\n",
       "    <tr>\n",
       "      <th>2</th>\n",
       "      <td>-937.956</td>\n",
       "      <td>-937.956</td>\n",
       "      <td>-232.851</td>\n",
       "      <td>0.0</td>\n",
       "      <td>0.0</td>\n",
       "      <td>0.0</td>\n",
       "      <td>0.0</td>\n",
       "      <td>0.0</td>\n",
       "    </tr>\n",
       "    <tr>\n",
       "      <th>3</th>\n",
       "      <td>-937.979</td>\n",
       "      <td>-937.979</td>\n",
       "      <td>-180.125</td>\n",
       "      <td>0.0</td>\n",
       "      <td>0.0</td>\n",
       "      <td>0.0</td>\n",
       "      <td>0.0</td>\n",
       "      <td>0.0</td>\n",
       "    </tr>\n",
       "    <tr>\n",
       "      <th>4</th>\n",
       "      <td>-938.014</td>\n",
       "      <td>-938.014</td>\n",
       "      <td>-103.454</td>\n",
       "      <td>0.0</td>\n",
       "      <td>0.0</td>\n",
       "      <td>0.0</td>\n",
       "      <td>0.0</td>\n",
       "      <td>0.0</td>\n",
       "    </tr>\n",
       "    <tr>\n",
       "      <th>...</th>\n",
       "      <td>...</td>\n",
       "      <td>...</td>\n",
       "      <td>...</td>\n",
       "      <td>...</td>\n",
       "      <td>...</td>\n",
       "      <td>...</td>\n",
       "      <td>...</td>\n",
       "      <td>...</td>\n",
       "    </tr>\n",
       "    <tr>\n",
       "      <th>66044</th>\n",
       "      <td>-1010.801</td>\n",
       "      <td>-1010.801</td>\n",
       "      <td>-537.171</td>\n",
       "      <td>0.0</td>\n",
       "      <td>0.0</td>\n",
       "      <td>0.0</td>\n",
       "      <td>0.0</td>\n",
       "      <td>0.0</td>\n",
       "    </tr>\n",
       "    <tr>\n",
       "      <th>66045</th>\n",
       "      <td>-1010.654</td>\n",
       "      <td>-1010.654</td>\n",
       "      <td>-578.815</td>\n",
       "      <td>0.0</td>\n",
       "      <td>0.0</td>\n",
       "      <td>0.0</td>\n",
       "      <td>0.0</td>\n",
       "      <td>0.0</td>\n",
       "    </tr>\n",
       "    <tr>\n",
       "      <th>66046</th>\n",
       "      <td>-1010.558</td>\n",
       "      <td>-1010.558</td>\n",
       "      <td>-635.297</td>\n",
       "      <td>0.0</td>\n",
       "      <td>0.0</td>\n",
       "      <td>0.0</td>\n",
       "      <td>0.0</td>\n",
       "      <td>0.0</td>\n",
       "    </tr>\n",
       "    <tr>\n",
       "      <th>66047</th>\n",
       "      <td>-1010.511</td>\n",
       "      <td>-1010.511</td>\n",
       "      <td>-566.656</td>\n",
       "      <td>0.0</td>\n",
       "      <td>0.0</td>\n",
       "      <td>0.0</td>\n",
       "      <td>0.0</td>\n",
       "      <td>0.0</td>\n",
       "    </tr>\n",
       "    <tr>\n",
       "      <th>66048</th>\n",
       "      <td>-1010.511</td>\n",
       "      <td>-1010.511</td>\n",
       "      <td>-681.637</td>\n",
       "      <td>0.0</td>\n",
       "      <td>0.0</td>\n",
       "      <td>0.0</td>\n",
       "      <td>0.0</td>\n",
       "      <td>0.0</td>\n",
       "    </tr>\n",
       "  </tbody>\n",
       "</table>\n",
       "<p>66049 rows × 8 columns</p>\n",
       "</div>"
      ],
      "text/plain": [
       "              0         1        2    3    4    5    6    7\n",
       "0      -937.944  -937.944 -626.765  0.0  0.0  0.0  0.0  0.0\n",
       "1      -937.944  -937.944 -419.347  0.0  0.0  0.0  0.0  0.0\n",
       "2      -937.956  -937.956 -232.851  0.0  0.0  0.0  0.0  0.0\n",
       "3      -937.979  -937.979 -180.125  0.0  0.0  0.0  0.0  0.0\n",
       "4      -938.014  -938.014 -103.454  0.0  0.0  0.0  0.0  0.0\n",
       "...         ...       ...      ...  ...  ...  ...  ...  ...\n",
       "66044 -1010.801 -1010.801 -537.171  0.0  0.0  0.0  0.0  0.0\n",
       "66045 -1010.654 -1010.654 -578.815  0.0  0.0  0.0  0.0  0.0\n",
       "66046 -1010.558 -1010.558 -635.297  0.0  0.0  0.0  0.0  0.0\n",
       "66047 -1010.511 -1010.511 -566.656  0.0  0.0  0.0  0.0  0.0\n",
       "66048 -1010.511 -1010.511 -681.637  0.0  0.0  0.0  0.0  0.0\n",
       "\n",
       "[66049 rows x 8 columns]"
      ]
     },
     "execution_count": 10,
     "metadata": {},
     "output_type": "execute_result"
    }
   ],
   "source": [
    "data46"
   ]
  },
  {
   "cell_type": "code",
   "execution_count": null,
   "id": "5b92a7fb-d9b5-4d88-a0b8-d291802873bd",
   "metadata": {},
   "outputs": [],
   "source": []
  }
 ],
 "metadata": {
  "kernelspec": {
   "display_name": "Python 3",
   "language": "python",
   "name": "python3"
  },
  "language_info": {
   "codemirror_mode": {
    "name": "ipython",
    "version": 3
   },
   "file_extension": ".py",
   "mimetype": "text/x-python",
   "name": "python",
   "nbconvert_exporter": "python",
   "pygments_lexer": "ipython3",
   "version": "3.8.8"
  }
 },
 "nbformat": 4,
 "nbformat_minor": 5
}
